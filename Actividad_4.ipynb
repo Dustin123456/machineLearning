{
  "nbformat": 4,
  "nbformat_minor": 0,
  "metadata": {
    "colab": {
      "provenance": [],
      "authorship_tag": "ABX9TyOJwwYV3ilw5mcKJzg86nP9",
      "include_colab_link": true
    },
    "kernelspec": {
      "name": "python3",
      "display_name": "Python 3"
    },
    "language_info": {
      "name": "python"
    }
  },
  "cells": [
    {
      "cell_type": "markdown",
      "metadata": {
        "id": "view-in-github",
        "colab_type": "text"
      },
      "source": [
        "<a href=\"https://colab.research.google.com/github/Dustin123456/machineLearning/blob/main/Actividad_4.ipynb\" target=\"_parent\"><img src=\"https://colab.research.google.com/assets/colab-badge.svg\" alt=\"Open In Colab\"/></a>"
      ]
    },
    {
      "cell_type": "code",
      "source": [
        "import pandas as pd\n",
        "from sklearn.model_selection import train_test_split\n",
        "from sklearn.preprocessing import StandardScaler\n",
        "from sklearn.linear_model import LogisticRegression\n",
        "from sklearn.metrics import confusion_matrix, accuracy_score\n",
        "\n",
        "# Carga los datos\n",
        "data = pd.read_csv(\"iris.csv\")\n",
        "\n",
        "# Selecciona las columnas de predictores y la columna de la clase\n",
        "X = data.iloc[:, :4]\n",
        "y = data.iloc[:, 4]\n",
        "\n",
        "# Divide los datos en conjunto de entrenamiento y conjunto de prueba\n",
        "X_train, X_test, y_train, y_test = train_test_split(X, y, test_size=0.2, random_state=0)\n",
        "\n",
        "# Crea el objeto de escalado\n",
        "scaler = StandardScaler()\n",
        "\n",
        "# Ajusta el escalado al conjunto de entrenamiento\n",
        "scaler.fit(X_train)\n",
        "\n",
        "# Escala los datos de entrenamiento y de prueba\n",
        "X_train_scaled = scaler.transform(X_train)\n",
        "X_test_scaled = scaler.transform(X_test)\n",
        "\n",
        "# Crea el modelo de regresión logística\n",
        "model = LogisticRegression()\n",
        "\n",
        "# Entrena el modelo con los datos de entrenamiento escalados\n",
        "model.fit(X_train_scaled, y_train)\n",
        "\n",
        "# Predice las clases para los datos de prueba escalados\n",
        "y_pred = model.predict(X_test_scaled)\n",
        "\n",
        "# Calcula la matriz de confusión y la precisión del modelo\n",
        "conf_matrix = confusion_matrix(y_test, y_pred)\n",
        "accuracy = accuracy_score(y_test, y_pred)\n",
        "\n",
        "print(\"Matriz de confusión:\")\n",
        "print(conf_matrix)\n",
        "print(\"Precisión: {:.2f}\".format(accuracy))"
      ],
      "metadata": {
        "colab": {
          "base_uri": "https://localhost:8080/"
        },
        "id": "W4hvZgPbURuo",
        "outputId": "581b248f-4336-4df0-c107-ab70ddfbcea2"
      },
      "execution_count": 14,
      "outputs": [
        {
          "output_type": "stream",
          "name": "stdout",
          "text": [
            "Matriz de confusión:\n",
            "[[11  0  0]\n",
            " [ 0 13  0]\n",
            " [ 0  0  6]]\n",
            "Precisión: 1.00\n"
          ]
        }
      ]
    }
  ]
}